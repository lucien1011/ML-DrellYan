{
 "cells": [
  {
   "cell_type": "code",
   "execution_count": null,
   "metadata": {},
   "outputs": [],
   "source": [
    "import pandas as pd\n",
    "import numpy as np\n",
    "import tensorflow as tf\n",
    "import tensorflow.keras.backend as K\n",
    "import matplotlib.pyplot as plt"
   ]
  },
  {
   "cell_type": "code",
   "execution_count": null,
   "metadata": {},
   "outputs": [],
   "source": [
    "from process_data import make_ptregression_data\n",
    "\n",
    "input_path = \"data/train.npy\"\n",
    "arr = np.load(input_path)\n",
    "x_orig,x_smear,mll_smear = make_ptregression_data(arr)"
   ]
  },
  {
   "cell_type": "code",
   "execution_count": 3,
   "metadata": {},
   "outputs": [
    {
     "data": {
      "text/plain": [
       "(array([5.0000e+00, 5.7000e+01, 8.2000e+01, 9.7000e+01, 1.2200e+02,\n",
       "        1.6000e+02, 1.6200e+02, 2.1000e+02, 2.6300e+02, 2.9900e+02,\n",
       "        3.8400e+02, 5.3600e+02, 8.5600e+02, 1.6310e+03, 2.8890e+03,\n",
       "        4.7060e+03, 6.9670e+03, 9.1790e+03, 1.0803e+04, 1.0723e+04,\n",
       "        9.5340e+03, 7.9240e+03, 5.7160e+03, 3.9910e+03, 2.4480e+03,\n",
       "        1.4700e+03, 8.7200e+02, 5.0800e+02, 3.7000e+02, 2.3900e+02,\n",
       "        1.4600e+02, 1.2200e+02, 9.7000e+01, 8.2000e+01, 5.2000e+01,\n",
       "        4.1000e+01, 5.2000e+01, 3.7000e+01, 3.2000e+01, 2.0000e+01,\n",
       "        2.3000e+01, 3.7000e+01, 2.6000e+01, 2.0000e+01, 1.7000e+01,\n",
       "        1.2000e+01, 1.1000e+01, 1.4000e+01, 1.1000e+01, 1.1000e+01]),\n",
       " array([ 0. ,  0.2,  0.4,  0.6,  0.8,  1. ,  1.2,  1.4,  1.6,  1.8,  2. ,\n",
       "         2.2,  2.4,  2.6,  2.8,  3. ,  3.2,  3.4,  3.6,  3.8,  4. ,  4.2,\n",
       "         4.4,  4.6,  4.8,  5. ,  5.2,  5.4,  5.6,  5.8,  6. ,  6.2,  6.4,\n",
       "         6.6,  6.8,  7. ,  7.2,  7.4,  7.6,  7.8,  8. ,  8.2,  8.4,  8.6,\n",
       "         8.8,  9. ,  9.2,  9.4,  9.6,  9.8, 10. ]),\n",
       " [<matplotlib.patches.Polygon at 0x1456120d0>])"
      ]
     },
     "execution_count": 3,
     "metadata": {},
     "output_type": "execute_result"
    },
    {
     "data": {
      "image/png": "[encoded data removed]",
      "text/plain": [
       "<Figure size 432x288 with 1 Axes>"
      ]
     },
     "metadata": {
      "needs_background": "light"
     },
     "output_type": "display_data"
    }
   ],
   "source": [
    "plt.hist(mll_smear,bins=50,range=[0.,10.],histtype='step',label='smeared distribution')"
   ]
  },
  {
   "cell_type": "code",
   "execution_count": 4,
   "metadata": {},
   "outputs": [
    {
     "name": "stdout",
     "output_type": "stream",
     "text": [
      "[<tf.Variable 'Variable:0' shape=() dtype=float32, numpy=3.795981>, <tf.Variable 'Variable:0' shape=() dtype=float32, numpy=0.40494174>]\n"
     ]
    }
   ],
   "source": [
    "mu = tf.Variable(0.5,dtype=tf.float32)\n",
    "beta = tf.Variable(0.5,dtype=tf.float32)\n",
    "\n",
    "def log_loss(x,mu,beta):\n",
    "    diff = x - mu\n",
    "    return tf.reduce_mean(-tf.math.log(beta) + 0.5 * tf.math.square(tf.math.multiply(beta,diff)))\n",
    "\n",
    "nepoch = 10000\n",
    "opt = tf.keras.optimizers.Adam()\n",
    "for iep in range(nepoch):\n",
    "    with tf.GradientTape() as tape:\n",
    "        ll = log_loss(mll_smear,mu,beta)\n",
    "    grad = tape.gradient(ll,[mu,beta])\n",
    "    opt.apply_gradients(zip(grad,[mu,beta]))\n",
    "print([mu,beta])"
   ]
  },
  {
   "cell_type": "code",
   "execution_count": 5,
   "metadata": {},
   "outputs": [],
   "source": [
    "eps = K.random_normal(shape=(mll_smear.shape[0],))\n",
    "mll_fit = mu + eps / beta"
   ]
  },
  {
   "cell_type": "code",
   "execution_count": 12,
   "metadata": {},
   "outputs": [
    {
     "data": {
      "text/plain": [
       "<matplotlib.legend.Legend at 0x145b96bd0>"
      ]
     },
     "execution_count": 12,
     "metadata": {},
     "output_type": "execute_result"
    },
    {
     "data": {
      "image/png": "[encoded data removed]",
      "text/plain": [
       "<Figure size 432x288 with 1 Axes>"
      ]
     },
     "metadata": {
      "needs_background": "light"
     },
     "output_type": "display_data"
    }
   ],
   "source": [
    "plt.hist(mll_smear,bins=50,range=[0.,10.],histtype='step',label='smeared distribution')\n",
    "plt.hist(mll_fit.numpy(),bins=50,range=[0.,10.],histtype='step',label='fitted distribution')\n",
    "plt.title(\"mu and beta: \"+str(mu.numpy())+\" \"+str(beta.numpy()))\n",
    "plt.legend(loc='best')"
   ]
  },
  {
   "cell_type": "code",
   "execution_count": null,
   "metadata": {},
   "outputs": [],
   "source": []
  }
 ],
 "metadata": {
  "kernelspec": {
   "display_name": "py3.7.6",
   "language": "python",
   "name": "py3.7.6"
  },
  "language_info": {
   "codemirror_mode": {
    "name": "ipython",
    "version": 3
   },
   "file_extension": ".py",
   "mimetype": "text/x-python",
   "name": "python",
   "nbconvert_exporter": "python",
   "pygments_lexer": "ipython3",
   "version": "3.7.6"
  }
 },
 "nbformat": 4,
 "nbformat_minor": 4
}
