{
 "cells": [
  {
   "cell_type": "code",
   "execution_count": 14,
   "metadata": {},
   "outputs": [],
   "source": [
    "import pandas as pd\n",
    "import numpy as np\n",
    "import tensorflow as tf\n",
    "import tensorflow.keras.backend as K\n",
    "import matplotlib.pyplot as plt"
   ]
  },
  {
   "cell_type": "code",
   "execution_count": 2,
   "metadata": {},
   "outputs": [],
   "source": [
    "from process_data import make_ptregression_data\n",
    "\n",
    "input_path = \"data/train.npy\"\n",
    "arr = np.load(input_path)\n",
    "x_orig,x_smear,mll_smear = make_ptregression_data(arr)"
   ]
  },
  {
   "cell_type": "code",
   "execution_count": 9,
   "metadata": {},
   "outputs": [
    {
     "data": {
      "text/plain": [
       "(array([6.0000e+00, 5.3000e+01, 8.1000e+01, 9.4000e+01, 1.1100e+02,\n",
       "        1.6500e+02, 1.9000e+02, 1.8700e+02, 2.2400e+02, 3.3500e+02,\n",
       "        3.8900e+02, 5.7600e+02, 8.7700e+02, 1.6590e+03, 2.7520e+03,\n",
       "        4.6860e+03, 6.9970e+03, 9.3230e+03, 1.0451e+04, 1.0706e+04,\n",
       "        9.8240e+03, 7.9940e+03, 5.8090e+03, 3.8310e+03, 2.4520e+03,\n",
       "        1.4880e+03, 8.9000e+02, 5.2500e+02, 3.1900e+02, 2.2900e+02,\n",
       "        1.5400e+02, 1.0300e+02, 7.9000e+01, 7.9000e+01, 7.0000e+01,\n",
       "        5.6000e+01, 4.7000e+01, 4.9000e+01, 2.7000e+01, 2.5000e+01,\n",
       "        1.8000e+01, 2.1000e+01, 2.9000e+01, 1.7000e+01, 2.4000e+01,\n",
       "        1.6000e+01, 9.0000e+00, 7.0000e+00, 1.5000e+01, 3.0000e+00]),\n",
       " array([ 0. ,  0.2,  0.4,  0.6,  0.8,  1. ,  1.2,  1.4,  1.6,  1.8,  2. ,\n",
       "         2.2,  2.4,  2.6,  2.8,  3. ,  3.2,  3.4,  3.6,  3.8,  4. ,  4.2,\n",
       "         4.4,  4.6,  4.8,  5. ,  5.2,  5.4,  5.6,  5.8,  6. ,  6.2,  6.4,\n",
       "         6.6,  6.8,  7. ,  7.2,  7.4,  7.6,  7.8,  8. ,  8.2,  8.4,  8.6,\n",
       "         8.8,  9. ,  9.2,  9.4,  9.6,  9.8, 10. ]),\n",
       " [<matplotlib.patches.Polygon at 0x13d938650>])"
      ]
     },
     "execution_count": 9,
     "metadata": {},
     "output_type": "execute_result"
    },
    {
     "data": {
      "image/png": "[encoded data removed]",
      "text/plain": [
       "<Figure size 432x288 with 1 Axes>"
      ]
     },
     "metadata": {
      "needs_background": "light"
     },
     "output_type": "display_data"
    }
   ],
   "source": [
    "plt.hist(mll_smear,bins=50,range=[0.,10.],histtype='step',label='smeared distribution')"
   ]
  },
  {
   "cell_type": "code",
   "execution_count": 10,
   "metadata": {},
   "outputs": [
    {
     "name": "stdout",
     "output_type": "stream",
     "text": [
      "[<tf.Variable 'Variable:0' shape=() dtype=float32, numpy=3.826722>, <tf.Variable 'Variable:0' shape=() dtype=float32, numpy=0.44242144>]\n"
     ]
    }
   ],
   "source": [
    "mu = tf.Variable(0.5,dtype=tf.float32)\n",
    "beta = tf.Variable(0.5,dtype=tf.float32)\n",
    "\n",
    "def log_loss(x,mu,beta):\n",
    "    diff = x - mu\n",
    "    return tf.reduce_mean(-tf.math.log(beta) + 0.5 * tf.math.square(tf.math.multiply(beta,diff)))\n",
    "\n",
    "nepoch = 5000\n",
    "opt = tf.keras.optimizers.Adam()\n",
    "for iep in range(nepoch):\n",
    "    with tf.GradientTape() as tape:\n",
    "        ll = log_loss(mll_smear,mu,beta)\n",
    "    grad = tape.gradient(ll,[mu,beta])\n",
    "    opt.apply_gradients(zip(grad,[mu,beta]))\n",
    "print([mu,beta])"
   ]
  },
  {
   "cell_type": "code",
   "execution_count": 20,
   "metadata": {},
   "outputs": [],
   "source": [
    "eps = K.random_normal(shape=(mll_smear.shape[0],))\n",
    "mll_fit = mu + eps / beta"
   ]
  },
  {
   "cell_type": "code",
   "execution_count": null,
   "metadata": {},
   "outputs": [],
   "source": [
    "plt.hist(mll_smear,bins=50,range=[0.,10.],histtype='step',label='smeared distribution')\n",
    "plt.hist(mll_fit,bins=50,range=[0.,10.],histtype='step',label='fitted distribution')"
   ]
  },
  {
   "cell_type": "code",
   "execution_count": null,
   "metadata": {},
   "outputs": [],
   "source": []
  }
 ],
 "metadata": {
  "kernelspec": {
   "display_name": "py3.7.6",
   "language": "python",
   "name": "py3.7.6"
  },
  "language_info": {
   "codemirror_mode": {
    "name": "ipython",
    "version": 3
   },
   "file_extension": ".py",
   "mimetype": "text/x-python",
   "name": "python",
   "nbconvert_exporter": "python",
   "pygments_lexer": "ipython3",
   "version": "3.7.6"
  }
 },
 "nbformat": 4,
 "nbformat_minor": 4
}
