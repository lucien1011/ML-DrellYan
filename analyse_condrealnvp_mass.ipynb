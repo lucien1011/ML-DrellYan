{
 "cells": [
  {
   "cell_type": "code",
   "execution_count": 1,
   "metadata": {},
   "outputs": [],
   "source": [
    "import os,pickle\n",
    "import numpy as np\n",
    "import tensorflow as tf\n",
    "import matplotlib\n",
    "matplotlib.use('Agg')\n",
    "import matplotlib.pyplot as plt\n",
    "\n",
    "from process_data import preprocess_conditional_flow_data_mass,simuate_conditional_flow_data_mass\n",
    "from Model.ConditionalRealNVP import ConditionalRealNVP\n",
    "from Utils.ObjDict import ObjDict\n",
    "from Utils.mkdir_p import mkdir_p"
   ]
  },
  {
   "cell_type": "code",
   "execution_count": 27,
   "metadata": {},
   "outputs": [],
   "source": [
    "# __________________________________________________________________ ||\n",
    "# Basic configurables\n",
    "# __________________________________________________________________ ||\n",
    "\n",
    "input_csv_path = \"data/train_mass.npy\"\n",
    "saved_model_path = \"output/train_condrealnvp_mass_210209_v1/saved_model_700.h5\"\n",
    "output_dir = os.path.dirname(saved_model_path)\n",
    "ndim = 3\n",
    "ncond = 1"
   ]
  },
  {
   "cell_type": "code",
   "execution_count": 28,
   "metadata": {},
   "outputs": [],
   "source": [
    "# __________________________________________________________________ ||\n",
    "# Load models\n",
    "# __________________________________________________________________ ||\n",
    "\n",
    "nf_model = ConditionalRealNVP(num_coupling_layers=3,ndim=ndim,ncond=ncond)\n",
    "samples = nf_model.distribution.sample(event_size)\n",
    "condition = 1.0 * np.ones((event_size,1))\n",
    "_,_ = nf_model.predict([samples,condition,])\n",
    "nf_model.load_weights(saved_model_path)"
   ]
  },
  {
   "cell_type": "code",
   "execution_count": 13,
   "metadata": {},
   "outputs": [],
   "source": [
    "arr = np.load(input_csv_path)\n",
    "arr_list = preprocess_conditional_flow_data_mass(arr)"
   ]
  },
  {
   "cell_type": "code",
   "execution_count": 5,
   "metadata": {},
   "outputs": [
    {
     "ename": "NameError",
     "evalue": "name 'arr_list' is not defined",
     "output_type": "error",
     "traceback": [
      "\u001b[0;31m---------------------------------------------------------------------------\u001b[0m",
      "\u001b[0;31mNameError\u001b[0m                                 Traceback (most recent call last)",
      "\u001b[0;32m<ipython-input-5-1429b59cae28>\u001b[0m in \u001b[0;36m<module>\u001b[0;34m\u001b[0m\n\u001b[1;32m      4\u001b[0m \u001b[0;34m\u001b[0m\u001b[0m\n\u001b[1;32m      5\u001b[0m \u001b[0mn_dim\u001b[0m \u001b[0;34m=\u001b[0m \u001b[0;36m5\u001b[0m\u001b[0;34m\u001b[0m\u001b[0;34m\u001b[0m\u001b[0m\n\u001b[0;32m----> 6\u001b[0;31m \u001b[0mmass_grid\u001b[0m \u001b[0;34m=\u001b[0m \u001b[0;34m[\u001b[0m\u001b[0marr_list\u001b[0m\u001b[0;34m[\u001b[0m\u001b[0midx_mass\u001b[0m\u001b[0;34m]\u001b[0m \u001b[0;32mfor\u001b[0m \u001b[0midx_mass\u001b[0m \u001b[0;32min\u001b[0m \u001b[0mnp\u001b[0m\u001b[0;34m.\u001b[0m\u001b[0mrandom\u001b[0m\u001b[0;34m.\u001b[0m\u001b[0mrandint\u001b[0m\u001b[0;34m(\u001b[0m\u001b[0;36m0\u001b[0m\u001b[0;34m,\u001b[0m\u001b[0mlen\u001b[0m\u001b[0;34m(\u001b[0m\u001b[0marr_list\u001b[0m\u001b[0;34m)\u001b[0m\u001b[0;34m,\u001b[0m\u001b[0mn_dim\u001b[0m\u001b[0;34m*\u001b[0m\u001b[0mn_dim\u001b[0m\u001b[0;34m)\u001b[0m\u001b[0;34m]\u001b[0m\u001b[0;34m\u001b[0m\u001b[0;34m\u001b[0m\u001b[0m\n\u001b[0m\u001b[1;32m      7\u001b[0m \u001b[0mmass_grid\u001b[0m\u001b[0;34m.\u001b[0m\u001b[0msort\u001b[0m\u001b[0;34m(\u001b[0m\u001b[0mkey\u001b[0m\u001b[0;34m=\u001b[0m\u001b[0;32mlambda\u001b[0m \u001b[0mx\u001b[0m\u001b[0;34m:\u001b[0m \u001b[0mx\u001b[0m\u001b[0;34m.\u001b[0m\u001b[0mcondition\u001b[0m\u001b[0;34m[\u001b[0m\u001b[0;36m0\u001b[0m\u001b[0;34m]\u001b[0m\u001b[0;34m)\u001b[0m\u001b[0;34m\u001b[0m\u001b[0;34m\u001b[0m\u001b[0m\n\u001b[1;32m      8\u001b[0m \u001b[0mfigsize\u001b[0m \u001b[0;34m=\u001b[0m \u001b[0;34m(\u001b[0m\u001b[0;36m50\u001b[0m\u001b[0;34m,\u001b[0m\u001b[0;36m50\u001b[0m\u001b[0;34m)\u001b[0m\u001b[0;34m\u001b[0m\u001b[0;34m\u001b[0m\u001b[0m\n",
      "\u001b[0;31mNameError\u001b[0m: name 'arr_list' is not defined"
     ]
    }
   ],
   "source": [
    "# __________________________________________________________________ ||\n",
    "# Make plots for different conditions\n",
    "# __________________________________________________________________ ||\n",
    "\n",
    "n_dim = 5\n",
    "mass_grid = [arr_list[idx_mass] for idx_mass in np.random.randint(0,len(arr_list),n_dim*n_dim)]\n",
    "mass_grid.sort(key=lambda x: x.condition[0])\n",
    "figsize = (50,50)\n",
    "\n",
    "samples = nf_model.distribution.sample(event_size)\n",
    "fig_pt1,ax_pt1 = plt.subplots(n_dim,n_dim,figsize=figsize)\n",
    "fig_pt2,ax_pt2 = plt.subplots(n_dim,n_dim,figsize=figsize)\n",
    "fig_mll,ax_mll = plt.subplots(n_dim,n_dim,figsize=figsize)\n",
    "\n",
    "for i,m in enumerate(mass_grid):\n",
    "    \n",
    "    ix = int(i / n_dim)\n",
    "    iy = i % n_dim\n",
    "    \n",
    "    condition_str = str(m.condition[0])\n",
    "    condition = np.ones((event_size,1)) * m.condition[0]\n",
    "\n",
    "    idx_batch = np.random.randint(0,m.x.shape[0],event_size)\n",
    "    \n",
    "    x_true = m.x[idx_batch]\n",
    "    x_gen,_ = nf_model.predict([samples,condition,])\n",
    "\n",
    "    ax_pt1[ix,iy].hist(x_true[:,0],bins=100,density=1.,histtype='step',range=[-10.,10.],label='True '+condition_str)\n",
    "    ax_pt1[ix,iy].hist(x_gen[:,0],bins=100,density=1.,histtype='step',range=[-10.,10.],label='Flow '+condition_str)\n",
    "    ax_pt1[ix,iy].legend(loc='best')\n",
    "    ax_pt1[ix,iy].set_title(condition_str)\n",
    "    \n",
    "    ax_pt2[ix,iy].hist(x_true[:,1],bins=100,density=1.,histtype='step',range=[-10.,10.],label='True '+condition_str)\n",
    "    ax_pt2[ix,iy].hist(x_gen[:,1],bins=100,density=1.,histtype='step',range=[-10.,10.],label='Flow '+condition_str)\n",
    "    ax_pt2[ix,iy].legend(loc='best')\n",
    "    ax_pt2[ix,iy].set_title(condition_str)\n",
    "    \n",
    "    ax_mll[ix,iy].hist(x_true[:,2],bins=100,density=1.,histtype='step',range=[-10.,10.],label='True '+condition_str)\n",
    "    ax_mll[ix,iy].hist(x_gen[:,2],bins=100,density=1.,histtype='step',range=[-5.,5.],label='Flow '+condition_str)\n",
    "    ax_mll[ix,iy].legend(loc='best')\n",
    "    ax_mll[ix,iy].set_title(condition_str)\n",
    "    \n",
    "fig_pt1.savefig(os.path.join(output_dir,'pt1.png'))\n",
    "fig_pt2.savefig(os.path.join(output_dir,'pt2.png'))\n",
    "fig_mll.savefig(os.path.join(output_dir,'mll.png'))"
   ]
  },
  {
   "cell_type": "code",
   "execution_count": 114,
   "metadata": {},
   "outputs": [
    {
     "name": "stdout",
     "output_type": "stream",
     "text": [
      "----------------------------------------------------------------------------------------------------\n",
      "Drawing plot  0  with mass  [-0.89797003]\n"
     ]
    },
    {
     "name": "stderr",
     "output_type": "stream",
     "text": [
      "/Users/lucien/.pyenv/versions/3.7.6/lib/python3.7/site-packages/matplotlib/patches.py:1338: VisibleDeprecationWarning: Creating an ndarray from ragged nested sequences (which is a list-or-tuple of lists-or-tuples-or ndarrays with different lengths or shapes) is deprecated. If you meant to do this, you must specify 'dtype=object' when creating the ndarray\n",
      "  verts = np.dot(coords, M) + (x + dx, y + dy)\n"
     ]
    },
    {
     "name": "stdout",
     "output_type": "stream",
     "text": [
      "Time used: 0.7671208381652832s\n",
      "----------------------------------------------------------------------------------------------------\n",
      "Drawing plot  1  with mass  [-0.85885536]\n"
     ]
    },
    {
     "name": "stderr",
     "output_type": "stream",
     "text": [
      "/Users/lucien/.pyenv/versions/3.7.6/lib/python3.7/site-packages/matplotlib/patches.py:1338: VisibleDeprecationWarning: Creating an ndarray from ragged nested sequences (which is a list-or-tuple of lists-or-tuples-or ndarrays with different lengths or shapes) is deprecated. If you meant to do this, you must specify 'dtype=object' when creating the ndarray\n",
      "  verts = np.dot(coords, M) + (x + dx, y + dy)\n"
     ]
    },
    {
     "name": "stdout",
     "output_type": "stream",
     "text": [
      "Time used: 0.7628359794616699s\n",
      "----------------------------------------------------------------------------------------------------\n",
      "Drawing plot  2  with mass  [-0.73132628]\n"
     ]
    },
    {
     "name": "stderr",
     "output_type": "stream",
     "text": [
      "/Users/lucien/.pyenv/versions/3.7.6/lib/python3.7/site-packages/matplotlib/patches.py:1338: VisibleDeprecationWarning: Creating an ndarray from ragged nested sequences (which is a list-or-tuple of lists-or-tuples-or ndarrays with different lengths or shapes) is deprecated. If you meant to do this, you must specify 'dtype=object' when creating the ndarray\n",
      "  verts = np.dot(coords, M) + (x + dx, y + dy)\n"
     ]
    },
    {
     "name": "stdout",
     "output_type": "stream",
     "text": [
      "Time used: 0.7342588901519775s\n",
      "----------------------------------------------------------------------------------------------------\n",
      "Drawing plot  3  with mass  [-0.70267433]\n"
     ]
    },
    {
     "name": "stderr",
     "output_type": "stream",
     "text": [
      "/Users/lucien/.pyenv/versions/3.7.6/lib/python3.7/site-packages/matplotlib/patches.py:1338: VisibleDeprecationWarning: Creating an ndarray from ragged nested sequences (which is a list-or-tuple of lists-or-tuples-or ndarrays with different lengths or shapes) is deprecated. If you meant to do this, you must specify 'dtype=object' when creating the ndarray\n",
      "  verts = np.dot(coords, M) + (x + dx, y + dy)\n"
     ]
    },
    {
     "name": "stdout",
     "output_type": "stream",
     "text": [
      "Time used: 0.7076148986816406s\n",
      "----------------------------------------------------------------------------------------------------\n",
      "Drawing plot  4  with mass  [-0.5804934]\n"
     ]
    },
    {
     "name": "stderr",
     "output_type": "stream",
     "text": [
      "/Users/lucien/.pyenv/versions/3.7.6/lib/python3.7/site-packages/matplotlib/patches.py:1338: VisibleDeprecationWarning: Creating an ndarray from ragged nested sequences (which is a list-or-tuple of lists-or-tuples-or ndarrays with different lengths or shapes) is deprecated. If you meant to do this, you must specify 'dtype=object' when creating the ndarray\n",
      "  verts = np.dot(coords, M) + (x + dx, y + dy)\n"
     ]
    },
    {
     "name": "stdout",
     "output_type": "stream",
     "text": [
      "Time used: 0.7123360633850098s\n",
      "----------------------------------------------------------------------------------------------------\n",
      "Drawing plot  5  with mass  [-0.50172869]\n"
     ]
    },
    {
     "name": "stderr",
     "output_type": "stream",
     "text": [
      "/Users/lucien/.pyenv/versions/3.7.6/lib/python3.7/site-packages/matplotlib/patches.py:1338: VisibleDeprecationWarning: Creating an ndarray from ragged nested sequences (which is a list-or-tuple of lists-or-tuples-or ndarrays with different lengths or shapes) is deprecated. If you meant to do this, you must specify 'dtype=object' when creating the ndarray\n",
      "  verts = np.dot(coords, M) + (x + dx, y + dy)\n"
     ]
    },
    {
     "name": "stdout",
     "output_type": "stream",
     "text": [
      "Time used: 0.7333872318267822s\n",
      "----------------------------------------------------------------------------------------------------\n",
      "Drawing plot  6  with mass  [-0.46160543]\n"
     ]
    },
    {
     "name": "stderr",
     "output_type": "stream",
     "text": [
      "/Users/lucien/.pyenv/versions/3.7.6/lib/python3.7/site-packages/matplotlib/patches.py:1338: VisibleDeprecationWarning: Creating an ndarray from ragged nested sequences (which is a list-or-tuple of lists-or-tuples-or ndarrays with different lengths or shapes) is deprecated. If you meant to do this, you must specify 'dtype=object' when creating the ndarray\n",
      "  verts = np.dot(coords, M) + (x + dx, y + dy)\n"
     ]
    },
    {
     "name": "stdout",
     "output_type": "stream",
     "text": [
      "Time used: 0.72086501121521s\n",
      "----------------------------------------------------------------------------------------------------\n",
      "Drawing plot  7  with mass  [-0.45847269]\n"
     ]
    },
    {
     "name": "stderr",
     "output_type": "stream",
     "text": [
      "/Users/lucien/.pyenv/versions/3.7.6/lib/python3.7/site-packages/matplotlib/patches.py:1338: VisibleDeprecationWarning: Creating an ndarray from ragged nested sequences (which is a list-or-tuple of lists-or-tuples-or ndarrays with different lengths or shapes) is deprecated. If you meant to do this, you must specify 'dtype=object' when creating the ndarray\n",
      "  verts = np.dot(coords, M) + (x + dx, y + dy)\n"
     ]
    },
    {
     "name": "stdout",
     "output_type": "stream",
     "text": [
      "Time used: 0.6950399875640869s\n",
      "----------------------------------------------------------------------------------------------------\n",
      "Drawing plot  8  with mass  [-0.32993482]\n"
     ]
    },
    {
     "name": "stderr",
     "output_type": "stream",
     "text": [
      "/Users/lucien/.pyenv/versions/3.7.6/lib/python3.7/site-packages/matplotlib/patches.py:1338: VisibleDeprecationWarning: Creating an ndarray from ragged nested sequences (which is a list-or-tuple of lists-or-tuples-or ndarrays with different lengths or shapes) is deprecated. If you meant to do this, you must specify 'dtype=object' when creating the ndarray\n",
      "  verts = np.dot(coords, M) + (x + dx, y + dy)\n"
     ]
    },
    {
     "name": "stdout",
     "output_type": "stream",
     "text": [
      "Time used: 0.742542028427124s\n",
      "----------------------------------------------------------------------------------------------------\n",
      "Drawing plot  9  with mass  [-0.26489593]\n"
     ]
    },
    {
     "name": "stderr",
     "output_type": "stream",
     "text": [
      "/Users/lucien/.pyenv/versions/3.7.6/lib/python3.7/site-packages/matplotlib/patches.py:1338: VisibleDeprecationWarning: Creating an ndarray from ragged nested sequences (which is a list-or-tuple of lists-or-tuples-or ndarrays with different lengths or shapes) is deprecated. If you meant to do this, you must specify 'dtype=object' when creating the ndarray\n",
      "  verts = np.dot(coords, M) + (x + dx, y + dy)\n"
     ]
    },
    {
     "name": "stdout",
     "output_type": "stream",
     "text": [
      "Time used: 0.7245728969573975s\n",
      "----------------------------------------------------------------------------------------------------\n",
      "Drawing plot  10  with mass  [-0.02515446]\n"
     ]
    },
    {
     "name": "stderr",
     "output_type": "stream",
     "text": [
      "/Users/lucien/.pyenv/versions/3.7.6/lib/python3.7/site-packages/matplotlib/patches.py:1338: VisibleDeprecationWarning: Creating an ndarray from ragged nested sequences (which is a list-or-tuple of lists-or-tuples-or ndarrays with different lengths or shapes) is deprecated. If you meant to do this, you must specify 'dtype=object' when creating the ndarray\n",
      "  verts = np.dot(coords, M) + (x + dx, y + dy)\n"
     ]
    },
    {
     "name": "stdout",
     "output_type": "stream",
     "text": [
      "Time used: 0.7205100059509277s\n",
      "----------------------------------------------------------------------------------------------------\n",
      "Drawing plot  11  with mass  [-0.02121313]\n"
     ]
    },
    {
     "name": "stderr",
     "output_type": "stream",
     "text": [
      "/Users/lucien/.pyenv/versions/3.7.6/lib/python3.7/site-packages/matplotlib/patches.py:1338: VisibleDeprecationWarning: Creating an ndarray from ragged nested sequences (which is a list-or-tuple of lists-or-tuples-or ndarrays with different lengths or shapes) is deprecated. If you meant to do this, you must specify 'dtype=object' when creating the ndarray\n",
      "  verts = np.dot(coords, M) + (x + dx, y + dy)\n"
     ]
    },
    {
     "name": "stdout",
     "output_type": "stream",
     "text": [
      "Time used: 0.8390500545501709s\n",
      "----------------------------------------------------------------------------------------------------\n",
      "Drawing plot  12  with mass  [0.01815648]\n"
     ]
    },
    {
     "name": "stderr",
     "output_type": "stream",
     "text": [
      "/Users/lucien/.pyenv/versions/3.7.6/lib/python3.7/site-packages/matplotlib/patches.py:1338: VisibleDeprecationWarning: Creating an ndarray from ragged nested sequences (which is a list-or-tuple of lists-or-tuples-or ndarrays with different lengths or shapes) is deprecated. If you meant to do this, you must specify 'dtype=object' when creating the ndarray\n",
      "  verts = np.dot(coords, M) + (x + dx, y + dy)\n"
     ]
    },
    {
     "name": "stdout",
     "output_type": "stream",
     "text": [
      "Time used: 0.9336886405944824s\n",
      "----------------------------------------------------------------------------------------------------\n",
      "Drawing plot  13  with mass  [0.01815648]\n"
     ]
    },
    {
     "name": "stderr",
     "output_type": "stream",
     "text": [
      "/Users/lucien/.pyenv/versions/3.7.6/lib/python3.7/site-packages/matplotlib/patches.py:1338: VisibleDeprecationWarning: Creating an ndarray from ragged nested sequences (which is a list-or-tuple of lists-or-tuples-or ndarrays with different lengths or shapes) is deprecated. If you meant to do this, you must specify 'dtype=object' when creating the ndarray\n",
      "  verts = np.dot(coords, M) + (x + dx, y + dy)\n"
     ]
    },
    {
     "name": "stdout",
     "output_type": "stream",
     "text": [
      "Time used: 0.8155441284179688s\n",
      "----------------------------------------------------------------------------------------------------\n",
      "Drawing plot  14  with mass  [0.24547908]\n"
     ]
    },
    {
     "name": "stderr",
     "output_type": "stream",
     "text": [
      "/Users/lucien/.pyenv/versions/3.7.6/lib/python3.7/site-packages/matplotlib/patches.py:1338: VisibleDeprecationWarning: Creating an ndarray from ragged nested sequences (which is a list-or-tuple of lists-or-tuples-or ndarrays with different lengths or shapes) is deprecated. If you meant to do this, you must specify 'dtype=object' when creating the ndarray\n",
      "  verts = np.dot(coords, M) + (x + dx, y + dy)\n"
     ]
    },
    {
     "name": "stdout",
     "output_type": "stream",
     "text": [
      "Time used: 0.7188680171966553s\n",
      "----------------------------------------------------------------------------------------------------\n",
      "Drawing plot  15  with mass  [0.2754474]\n"
     ]
    },
    {
     "name": "stderr",
     "output_type": "stream",
     "text": [
      "/Users/lucien/.pyenv/versions/3.7.6/lib/python3.7/site-packages/matplotlib/patches.py:1338: VisibleDeprecationWarning: Creating an ndarray from ragged nested sequences (which is a list-or-tuple of lists-or-tuples-or ndarrays with different lengths or shapes) is deprecated. If you meant to do this, you must specify 'dtype=object' when creating the ndarray\n",
      "  verts = np.dot(coords, M) + (x + dx, y + dy)\n"
     ]
    },
    {
     "name": "stdout",
     "output_type": "stream",
     "text": [
      "Time used: 0.8371257781982422s\n",
      "----------------------------------------------------------------------------------------------------\n",
      "Drawing plot  16  with mass  [0.30650036]\n"
     ]
    },
    {
     "name": "stderr",
     "output_type": "stream",
     "text": [
      "/Users/lucien/.pyenv/versions/3.7.6/lib/python3.7/site-packages/matplotlib/patches.py:1338: VisibleDeprecationWarning: Creating an ndarray from ragged nested sequences (which is a list-or-tuple of lists-or-tuples-or ndarrays with different lengths or shapes) is deprecated. If you meant to do this, you must specify 'dtype=object' when creating the ndarray\n",
      "  verts = np.dot(coords, M) + (x + dx, y + dy)\n"
     ]
    },
    {
     "name": "stdout",
     "output_type": "stream",
     "text": [
      "Time used: 0.815392017364502s\n",
      "----------------------------------------------------------------------------------------------------\n",
      "Drawing plot  17  with mass  [0.55027851]\n"
     ]
    },
    {
     "name": "stderr",
     "output_type": "stream",
     "text": [
      "/Users/lucien/.pyenv/versions/3.7.6/lib/python3.7/site-packages/matplotlib/patches.py:1338: VisibleDeprecationWarning: Creating an ndarray from ragged nested sequences (which is a list-or-tuple of lists-or-tuples-or ndarrays with different lengths or shapes) is deprecated. If you meant to do this, you must specify 'dtype=object' when creating the ndarray\n",
      "  verts = np.dot(coords, M) + (x + dx, y + dy)\n"
     ]
    },
    {
     "name": "stdout",
     "output_type": "stream",
     "text": [
      "Time used: 0.8939840793609619s\n",
      "----------------------------------------------------------------------------------------------------\n",
      "Drawing plot  18  with mass  [0.56619628]\n"
     ]
    },
    {
     "name": "stderr",
     "output_type": "stream",
     "text": [
      "/Users/lucien/.pyenv/versions/3.7.6/lib/python3.7/site-packages/matplotlib/patches.py:1338: VisibleDeprecationWarning: Creating an ndarray from ragged nested sequences (which is a list-or-tuple of lists-or-tuples-or ndarrays with different lengths or shapes) is deprecated. If you meant to do this, you must specify 'dtype=object' when creating the ndarray\n",
      "  verts = np.dot(coords, M) + (x + dx, y + dy)\n"
     ]
    },
    {
     "name": "stdout",
     "output_type": "stream",
     "text": [
      "Time used: 0.7988801002502441s\n",
      "----------------------------------------------------------------------------------------------------\n",
      "Drawing plot  19  with mass  [0.60776793]\n"
     ]
    },
    {
     "name": "stderr",
     "output_type": "stream",
     "text": [
      "/Users/lucien/.pyenv/versions/3.7.6/lib/python3.7/site-packages/matplotlib/patches.py:1338: VisibleDeprecationWarning: Creating an ndarray from ragged nested sequences (which is a list-or-tuple of lists-or-tuples-or ndarrays with different lengths or shapes) is deprecated. If you meant to do this, you must specify 'dtype=object' when creating the ndarray\n",
      "  verts = np.dot(coords, M) + (x + dx, y + dy)\n"
     ]
    },
    {
     "name": "stdout",
     "output_type": "stream",
     "text": [
      "Time used: 0.9447932243347168s\n",
      "----------------------------------------------------------------------------------------------------\n",
      "Drawing plot  20  with mass  [0.60776793]\n"
     ]
    },
    {
     "name": "stderr",
     "output_type": "stream",
     "text": [
      "/Users/lucien/.pyenv/versions/3.7.6/lib/python3.7/site-packages/matplotlib/patches.py:1338: VisibleDeprecationWarning: Creating an ndarray from ragged nested sequences (which is a list-or-tuple of lists-or-tuples-or ndarrays with different lengths or shapes) is deprecated. If you meant to do this, you must specify 'dtype=object' when creating the ndarray\n",
      "  verts = np.dot(coords, M) + (x + dx, y + dy)\n"
     ]
    },
    {
     "name": "stdout",
     "output_type": "stream",
     "text": [
      "Time used: 0.6944010257720947s\n",
      "----------------------------------------------------------------------------------------------------\n",
      "Drawing plot  21  with mass  [0.63667242]\n"
     ]
    },
    {
     "name": "stderr",
     "output_type": "stream",
     "text": [
      "/Users/lucien/.pyenv/versions/3.7.6/lib/python3.7/site-packages/matplotlib/patches.py:1338: VisibleDeprecationWarning: Creating an ndarray from ragged nested sequences (which is a list-or-tuple of lists-or-tuples-or ndarrays with different lengths or shapes) is deprecated. If you meant to do this, you must specify 'dtype=object' when creating the ndarray\n",
      "  verts = np.dot(coords, M) + (x + dx, y + dy)\n"
     ]
    },
    {
     "name": "stdout",
     "output_type": "stream",
     "text": [
      "Time used: 0.7165231704711914s\n",
      "----------------------------------------------------------------------------------------------------\n",
      "Drawing plot  22  with mass  [0.78392868]\n"
     ]
    },
    {
     "name": "stderr",
     "output_type": "stream",
     "text": [
      "/Users/lucien/.pyenv/versions/3.7.6/lib/python3.7/site-packages/matplotlib/patches.py:1338: VisibleDeprecationWarning: Creating an ndarray from ragged nested sequences (which is a list-or-tuple of lists-or-tuples-or ndarrays with different lengths or shapes) is deprecated. If you meant to do this, you must specify 'dtype=object' when creating the ndarray\n",
      "  verts = np.dot(coords, M) + (x + dx, y + dy)\n"
     ]
    },
    {
     "name": "stdout",
     "output_type": "stream",
     "text": [
      "Time used: 0.7386188507080078s\n",
      "----------------------------------------------------------------------------------------------------\n",
      "Drawing plot  23  with mass  [0.78392868]\n"
     ]
    },
    {
     "name": "stderr",
     "output_type": "stream",
     "text": [
      "/Users/lucien/.pyenv/versions/3.7.6/lib/python3.7/site-packages/matplotlib/patches.py:1338: VisibleDeprecationWarning: Creating an ndarray from ragged nested sequences (which is a list-or-tuple of lists-or-tuples-or ndarrays with different lengths or shapes) is deprecated. If you meant to do this, you must specify 'dtype=object' when creating the ndarray\n",
      "  verts = np.dot(coords, M) + (x + dx, y + dy)\n"
     ]
    },
    {
     "name": "stdout",
     "output_type": "stream",
     "text": [
      "Time used: 0.6903238296508789s\n",
      "----------------------------------------------------------------------------------------------------\n",
      "Drawing plot  24  with mass  [0.83711099]\n"
     ]
    },
    {
     "name": "stderr",
     "output_type": "stream",
     "text": [
      "/Users/lucien/.pyenv/versions/3.7.6/lib/python3.7/site-packages/matplotlib/patches.py:1338: VisibleDeprecationWarning: Creating an ndarray from ragged nested sequences (which is a list-or-tuple of lists-or-tuples-or ndarrays with different lengths or shapes) is deprecated. If you meant to do this, you must specify 'dtype=object' when creating the ndarray\n",
      "  verts = np.dot(coords, M) + (x + dx, y + dy)\n"
     ]
    },
    {
     "name": "stdout",
     "output_type": "stream",
     "text": [
      "Time used: 0.8433568477630615s\n"
     ]
    }
   ],
   "source": [
    "# __________________________________________________________________ ||\n",
    "# Make plots for likelihood\n",
    "# __________________________________________________________________ ||\n",
    "\n",
    "import time\n",
    "\n",
    "n_dim = 5\n",
    "mass_grid = [arr_list[idx_mass] for idx_mass in np.random.randint(0,len(arr_list),n_dim*n_dim)]\n",
    "mass_grid.sort(key=lambda x: x.condition[0])\n",
    "\n",
    "plot_low = -1.5\n",
    "plot_high = 1.5\n",
    "n_grid = 10\n",
    "x_grid = [plot_low+(plot_high-plot_low)/n_grid*i for i in range(n_grid+1)]\n",
    "figsize = (50,50)\n",
    "\n",
    "event_size = 5000\n",
    "\n",
    "z = np.zeros(n_grid+1)\n",
    "fig, ax = plt.subplots(n_dim,n_dim,figsize=figsize)\n",
    "\n",
    "for i,m in enumerate(mass_grid):\n",
    "    \n",
    "    print(\"-\"*100)\n",
    "    print(\"Drawing plot \",i,\" with mass \",m.condition[0])\n",
    "    \n",
    "    ix = int(i / n_dim)\n",
    "    iy = i % n_dim\n",
    "    \n",
    "    start_time = time.time()\n",
    "    \n",
    "    condition_str = str(m)\n",
    "\n",
    "    nf_model.direction = -1\n",
    "    \n",
    "    idx_batch = np.random.randint(0,m.x.shape[0],event_size)\n",
    "    \n",
    "    condition_concat = np.concatenate([np.ones((event_size,1)) * x for ix,x in enumerate(x_grid)])\n",
    "    x_data_concat = np.concatenate([m.x[idx_batch] for ix,x in enumerate(x_grid)])\n",
    "    \n",
    "    z_concat = nf_model.batch_log_loss([x_data_concat,condition_concat])\n",
    "    \n",
    "    for ig,x in enumerate(x_grid):\n",
    "        z[ig] = tf.reduce_mean(z_concat[ig*idx_batch.shape[0]:(ig+1)*idx_batch.shape[0]])\n",
    "\n",
    "    ax[ix,iy].plot(x_grid,z,)\n",
    "    ylims = ax[ix,iy].get_ylim()\n",
    "    ax[ix,iy].arrow(m.condition[0], ylims[1], 0., ylims[0]-ylims[1],)\n",
    "    \n",
    "    elapsed_time = time.time() - start_time\n",
    "    print(\"Time used: \"+str(elapsed_time)+\"s\")\n",
    "    \n",
    "fig.savefig(os.path.join(output_dir,'log_loss.png'))"
   ]
  },
  {
   "cell_type": "code",
   "execution_count": 29,
   "metadata": {},
   "outputs": [
    {
     "name": "stdout",
     "output_type": "stream",
     "text": [
      "----------------------------------------------------------------------------------------------------\n",
      "Drawing plot  0  with param  [-0.29155951]\n"
     ]
    },
    {
     "name": "stderr",
     "output_type": "stream",
     "text": [
      "/Users/lucien/.pyenv/versions/3.7.6/lib/python3.7/site-packages/matplotlib/patches.py:1338: VisibleDeprecationWarning: Creating an ndarray from ragged nested sequences (which is a list-or-tuple of lists-or-tuples-or ndarrays with different lengths or shapes) is deprecated. If you meant to do this, you must specify 'dtype=object' when creating the ndarray\n",
      "  verts = np.dot(coords, M) + (x + dx, y + dy)\n",
      "/Users/lucien/.pyenv/versions/3.7.6/lib/python3.7/site-packages/matplotlib/patches.py:1338: VisibleDeprecationWarning: Creating an ndarray from ragged nested sequences (which is a list-or-tuple of lists-or-tuples-or ndarrays with different lengths or shapes) is deprecated. If you meant to do this, you must specify 'dtype=object' when creating the ndarray\n",
      "  verts = np.dot(coords, M) + (x + dx, y + dy)\n",
      "/Users/lucien/.pyenv/versions/3.7.6/lib/python3.7/site-packages/matplotlib/patches.py:1338: VisibleDeprecationWarning: Creating an ndarray from ragged nested sequences (which is a list-or-tuple of lists-or-tuples-or ndarrays with different lengths or shapes) is deprecated. If you meant to do this, you must specify 'dtype=object' when creating the ndarray\n",
      "  verts = np.dot(coords, M) + (x + dx, y + dy)\n",
      "/Users/lucien/.pyenv/versions/3.7.6/lib/python3.7/site-packages/matplotlib/patches.py:1338: VisibleDeprecationWarning: Creating an ndarray from ragged nested sequences (which is a list-or-tuple of lists-or-tuples-or ndarrays with different lengths or shapes) is deprecated. If you meant to do this, you must specify 'dtype=object' when creating the ndarray\n",
      "  verts = np.dot(coords, M) + (x + dx, y + dy)\n",
      "/Users/lucien/.pyenv/versions/3.7.6/lib/python3.7/site-packages/matplotlib/patches.py:1338: VisibleDeprecationWarning: Creating an ndarray from ragged nested sequences (which is a list-or-tuple of lists-or-tuples-or ndarrays with different lengths or shapes) is deprecated. If you meant to do this, you must specify 'dtype=object' when creating the ndarray\n",
      "  verts = np.dot(coords, M) + (x + dx, y + dy)\n",
      "/Users/lucien/.pyenv/versions/3.7.6/lib/python3.7/site-packages/matplotlib/patches.py:1338: VisibleDeprecationWarning: Creating an ndarray from ragged nested sequences (which is a list-or-tuple of lists-or-tuples-or ndarrays with different lengths or shapes) is deprecated. If you meant to do this, you must specify 'dtype=object' when creating the ndarray\n",
      "  verts = np.dot(coords, M) + (x + dx, y + dy)\n"
     ]
    },
    {
     "name": "stdout",
     "output_type": "stream",
     "text": [
      "Time used: 7.5941550731658936s\n",
      "----------------------------------------------------------------------------------------------------\n",
      "Drawing plot  1  with param  [-0.23136288]\n"
     ]
    },
    {
     "name": "stderr",
     "output_type": "stream",
     "text": [
      "/Users/lucien/.pyenv/versions/3.7.6/lib/python3.7/site-packages/matplotlib/patches.py:1338: VisibleDeprecationWarning: Creating an ndarray from ragged nested sequences (which is a list-or-tuple of lists-or-tuples-or ndarrays with different lengths or shapes) is deprecated. If you meant to do this, you must specify 'dtype=object' when creating the ndarray\n",
      "  verts = np.dot(coords, M) + (x + dx, y + dy)\n",
      "/Users/lucien/.pyenv/versions/3.7.6/lib/python3.7/site-packages/matplotlib/patches.py:1338: VisibleDeprecationWarning: Creating an ndarray from ragged nested sequences (which is a list-or-tuple of lists-or-tuples-or ndarrays with different lengths or shapes) is deprecated. If you meant to do this, you must specify 'dtype=object' when creating the ndarray\n",
      "  verts = np.dot(coords, M) + (x + dx, y + dy)\n",
      "/Users/lucien/.pyenv/versions/3.7.6/lib/python3.7/site-packages/matplotlib/patches.py:1338: VisibleDeprecationWarning: Creating an ndarray from ragged nested sequences (which is a list-or-tuple of lists-or-tuples-or ndarrays with different lengths or shapes) is deprecated. If you meant to do this, you must specify 'dtype=object' when creating the ndarray\n",
      "  verts = np.dot(coords, M) + (x + dx, y + dy)\n",
      "/Users/lucien/.pyenv/versions/3.7.6/lib/python3.7/site-packages/matplotlib/patches.py:1338: VisibleDeprecationWarning: Creating an ndarray from ragged nested sequences (which is a list-or-tuple of lists-or-tuples-or ndarrays with different lengths or shapes) is deprecated. If you meant to do this, you must specify 'dtype=object' when creating the ndarray\n",
      "  verts = np.dot(coords, M) + (x + dx, y + dy)\n",
      "/Users/lucien/.pyenv/versions/3.7.6/lib/python3.7/site-packages/matplotlib/patches.py:1338: VisibleDeprecationWarning: Creating an ndarray from ragged nested sequences (which is a list-or-tuple of lists-or-tuples-or ndarrays with different lengths or shapes) is deprecated. If you meant to do this, you must specify 'dtype=object' when creating the ndarray\n",
      "  verts = np.dot(coords, M) + (x + dx, y + dy)\n",
      "/Users/lucien/.pyenv/versions/3.7.6/lib/python3.7/site-packages/matplotlib/patches.py:1338: VisibleDeprecationWarning: Creating an ndarray from ragged nested sequences (which is a list-or-tuple of lists-or-tuples-or ndarrays with different lengths or shapes) is deprecated. If you meant to do this, you must specify 'dtype=object' when creating the ndarray\n",
      "  verts = np.dot(coords, M) + (x + dx, y + dy)\n"
     ]
    },
    {
     "name": "stdout",
     "output_type": "stream",
     "text": [
      "Time used: 10.903495788574219s\n",
      "----------------------------------------------------------------------------------------------------\n",
      "Drawing plot  2  with param  [-0.21552924]\n"
     ]
    },
    {
     "name": "stderr",
     "output_type": "stream",
     "text": [
      "/Users/lucien/.pyenv/versions/3.7.6/lib/python3.7/site-packages/matplotlib/patches.py:1338: VisibleDeprecationWarning: Creating an ndarray from ragged nested sequences (which is a list-or-tuple of lists-or-tuples-or ndarrays with different lengths or shapes) is deprecated. If you meant to do this, you must specify 'dtype=object' when creating the ndarray\n",
      "  verts = np.dot(coords, M) + (x + dx, y + dy)\n",
      "/Users/lucien/.pyenv/versions/3.7.6/lib/python3.7/site-packages/matplotlib/patches.py:1338: VisibleDeprecationWarning: Creating an ndarray from ragged nested sequences (which is a list-or-tuple of lists-or-tuples-or ndarrays with different lengths or shapes) is deprecated. If you meant to do this, you must specify 'dtype=object' when creating the ndarray\n",
      "  verts = np.dot(coords, M) + (x + dx, y + dy)\n",
      "/Users/lucien/.pyenv/versions/3.7.6/lib/python3.7/site-packages/matplotlib/patches.py:1338: VisibleDeprecationWarning: Creating an ndarray from ragged nested sequences (which is a list-or-tuple of lists-or-tuples-or ndarrays with different lengths or shapes) is deprecated. If you meant to do this, you must specify 'dtype=object' when creating the ndarray\n",
      "  verts = np.dot(coords, M) + (x + dx, y + dy)\n",
      "/Users/lucien/.pyenv/versions/3.7.6/lib/python3.7/site-packages/matplotlib/patches.py:1338: VisibleDeprecationWarning: Creating an ndarray from ragged nested sequences (which is a list-or-tuple of lists-or-tuples-or ndarrays with different lengths or shapes) is deprecated. If you meant to do this, you must specify 'dtype=object' when creating the ndarray\n",
      "  verts = np.dot(coords, M) + (x + dx, y + dy)\n",
      "/Users/lucien/.pyenv/versions/3.7.6/lib/python3.7/site-packages/matplotlib/patches.py:1338: VisibleDeprecationWarning: Creating an ndarray from ragged nested sequences (which is a list-or-tuple of lists-or-tuples-or ndarrays with different lengths or shapes) is deprecated. If you meant to do this, you must specify 'dtype=object' when creating the ndarray\n",
      "  verts = np.dot(coords, M) + (x + dx, y + dy)\n",
      "/Users/lucien/.pyenv/versions/3.7.6/lib/python3.7/site-packages/matplotlib/patches.py:1338: VisibleDeprecationWarning: Creating an ndarray from ragged nested sequences (which is a list-or-tuple of lists-or-tuples-or ndarrays with different lengths or shapes) is deprecated. If you meant to do this, you must specify 'dtype=object' when creating the ndarray\n",
      "  verts = np.dot(coords, M) + (x + dx, y + dy)\n"
     ]
    },
    {
     "name": "stdout",
     "output_type": "stream",
     "text": [
      "Time used: 8.235575914382935s\n",
      "----------------------------------------------------------------------------------------------------\n",
      "Drawing plot  3  with param  [-0.15319038]\n"
     ]
    },
    {
     "name": "stderr",
     "output_type": "stream",
     "text": [
      "/Users/lucien/.pyenv/versions/3.7.6/lib/python3.7/site-packages/matplotlib/patches.py:1338: VisibleDeprecationWarning: Creating an ndarray from ragged nested sequences (which is a list-or-tuple of lists-or-tuples-or ndarrays with different lengths or shapes) is deprecated. If you meant to do this, you must specify 'dtype=object' when creating the ndarray\n",
      "  verts = np.dot(coords, M) + (x + dx, y + dy)\n",
      "/Users/lucien/.pyenv/versions/3.7.6/lib/python3.7/site-packages/matplotlib/patches.py:1338: VisibleDeprecationWarning: Creating an ndarray from ragged nested sequences (which is a list-or-tuple of lists-or-tuples-or ndarrays with different lengths or shapes) is deprecated. If you meant to do this, you must specify 'dtype=object' when creating the ndarray\n",
      "  verts = np.dot(coords, M) + (x + dx, y + dy)\n",
      "/Users/lucien/.pyenv/versions/3.7.6/lib/python3.7/site-packages/matplotlib/patches.py:1338: VisibleDeprecationWarning: Creating an ndarray from ragged nested sequences (which is a list-or-tuple of lists-or-tuples-or ndarrays with different lengths or shapes) is deprecated. If you meant to do this, you must specify 'dtype=object' when creating the ndarray\n",
      "  verts = np.dot(coords, M) + (x + dx, y + dy)\n",
      "/Users/lucien/.pyenv/versions/3.7.6/lib/python3.7/site-packages/matplotlib/patches.py:1338: VisibleDeprecationWarning: Creating an ndarray from ragged nested sequences (which is a list-or-tuple of lists-or-tuples-or ndarrays with different lengths or shapes) is deprecated. If you meant to do this, you must specify 'dtype=object' when creating the ndarray\n",
      "  verts = np.dot(coords, M) + (x + dx, y + dy)\n",
      "/Users/lucien/.pyenv/versions/3.7.6/lib/python3.7/site-packages/matplotlib/patches.py:1338: VisibleDeprecationWarning: Creating an ndarray from ragged nested sequences (which is a list-or-tuple of lists-or-tuples-or ndarrays with different lengths or shapes) is deprecated. If you meant to do this, you must specify 'dtype=object' when creating the ndarray\n",
      "  verts = np.dot(coords, M) + (x + dx, y + dy)\n",
      "/Users/lucien/.pyenv/versions/3.7.6/lib/python3.7/site-packages/matplotlib/patches.py:1338: VisibleDeprecationWarning: Creating an ndarray from ragged nested sequences (which is a list-or-tuple of lists-or-tuples-or ndarrays with different lengths or shapes) is deprecated. If you meant to do this, you must specify 'dtype=object' when creating the ndarray\n",
      "  verts = np.dot(coords, M) + (x + dx, y + dy)\n"
     ]
    },
    {
     "name": "stdout",
     "output_type": "stream",
     "text": [
      "Time used: 9.340811014175415s\n",
      "----------------------------------------------------------------------------------------------------\n",
      "Drawing plot  4  with param  [-0.1027987]\n"
     ]
    },
    {
     "name": "stderr",
     "output_type": "stream",
     "text": [
      "/Users/lucien/.pyenv/versions/3.7.6/lib/python3.7/site-packages/matplotlib/patches.py:1338: VisibleDeprecationWarning: Creating an ndarray from ragged nested sequences (which is a list-or-tuple of lists-or-tuples-or ndarrays with different lengths or shapes) is deprecated. If you meant to do this, you must specify 'dtype=object' when creating the ndarray\n",
      "  verts = np.dot(coords, M) + (x + dx, y + dy)\n",
      "/Users/lucien/.pyenv/versions/3.7.6/lib/python3.7/site-packages/matplotlib/patches.py:1338: VisibleDeprecationWarning: Creating an ndarray from ragged nested sequences (which is a list-or-tuple of lists-or-tuples-or ndarrays with different lengths or shapes) is deprecated. If you meant to do this, you must specify 'dtype=object' when creating the ndarray\n",
      "  verts = np.dot(coords, M) + (x + dx, y + dy)\n",
      "/Users/lucien/.pyenv/versions/3.7.6/lib/python3.7/site-packages/matplotlib/patches.py:1338: VisibleDeprecationWarning: Creating an ndarray from ragged nested sequences (which is a list-or-tuple of lists-or-tuples-or ndarrays with different lengths or shapes) is deprecated. If you meant to do this, you must specify 'dtype=object' when creating the ndarray\n",
      "  verts = np.dot(coords, M) + (x + dx, y + dy)\n",
      "/Users/lucien/.pyenv/versions/3.7.6/lib/python3.7/site-packages/matplotlib/patches.py:1338: VisibleDeprecationWarning: Creating an ndarray from ragged nested sequences (which is a list-or-tuple of lists-or-tuples-or ndarrays with different lengths or shapes) is deprecated. If you meant to do this, you must specify 'dtype=object' when creating the ndarray\n",
      "  verts = np.dot(coords, M) + (x + dx, y + dy)\n",
      "/Users/lucien/.pyenv/versions/3.7.6/lib/python3.7/site-packages/matplotlib/patches.py:1338: VisibleDeprecationWarning: Creating an ndarray from ragged nested sequences (which is a list-or-tuple of lists-or-tuples-or ndarrays with different lengths or shapes) is deprecated. If you meant to do this, you must specify 'dtype=object' when creating the ndarray\n",
      "  verts = np.dot(coords, M) + (x + dx, y + dy)\n",
      "/Users/lucien/.pyenv/versions/3.7.6/lib/python3.7/site-packages/matplotlib/patches.py:1338: VisibleDeprecationWarning: Creating an ndarray from ragged nested sequences (which is a list-or-tuple of lists-or-tuples-or ndarrays with different lengths or shapes) is deprecated. If you meant to do this, you must specify 'dtype=object' when creating the ndarray\n",
      "  verts = np.dot(coords, M) + (x + dx, y + dy)\n"
     ]
    },
    {
     "name": "stdout",
     "output_type": "stream",
     "text": [
      "Time used: 7.14969277381897s\n"
     ]
    }
   ],
   "source": [
    "# __________________________________________________________________ ||\n",
    "# Make plots for posterior\n",
    "# __________________________________________________________________ ||\n",
    "\n",
    "import time\n",
    "\n",
    "n_dim = 5\n",
    "select_param = [40,42,45,47,50,]\n",
    "param_grid = [arr_list[idx_param] for idx_param in select_param]\n",
    "param_grid.sort(key=lambda x: x.condition[0])\n",
    "figsize = (25,10)\n",
    "\n",
    "plot_low = -1.0\n",
    "plot_high = 1.0\n",
    "n_grid = 100\n",
    "x_grid = [plot_low+(plot_high-plot_low)/n_grid*i for i in range(n_grid+1)]\n",
    "\n",
    "energy_norm = 5.\n",
    "\n",
    "fig, ax = plt.subplots(len(select_param),n_dim,figsize=figsize,constrained_layout=True)\n",
    "\n",
    "def make_array(event_size,x_grid,p,nf_model):\n",
    "    log_prob = np.zeros(n_grid+1)\n",
    "    log_prob_sm = np.zeros(n_grid+1)\n",
    "    \n",
    "    idx_batch = np.random.randint(0,p.x.shape[0],event_size)\n",
    "    condition_concat = np.concatenate([np.ones((event_size,1)) * x for ix,x in enumerate(x_grid)])\n",
    "    x_data_concat = np.concatenate([p.x[idx_batch] for ix,x in enumerate(x_grid)])\n",
    "    \n",
    "    z_concat = nf_model.batch_log_loss([x_data_concat,condition_concat])\n",
    "\n",
    "    for ig,x in enumerate(x_grid):\n",
    "        arg = tf.expand_dims(z_concat[ig*idx_batch.shape[0]:(ig+1)*idx_batch.shape[0]],axis=1)\n",
    "        log_prob[ig] = tf.reduce_sum(nf_model.distribution.log_prob(arg))\n",
    "    return log_prob.astype(np.float64),idx_batch\n",
    "\n",
    "for i,p in enumerate(param_grid):\n",
    "    \n",
    "    print(\"-\"*100)\n",
    "    print(\"Drawing plot \",i,\" with param \",p.condition[0])\n",
    "    \n",
    "    ix = i\n",
    "    \n",
    "    start_time = time.time()\n",
    "    \n",
    "    condition_str = str(p)\n",
    "    \n",
    "    for event_size in [5,50,100]:\n",
    "        nf_model.direction = -1\n",
    "        log_prob,idx_batch = make_array(event_size,x_grid,p,nf_model)\n",
    "        \n",
    "        y_grid = tf.nn.softmax(log_prob)\n",
    "        ax[ix,0].plot([x*energy_norm for x in x_grid],y_grid,label=str(event_size)+' events',)\n",
    "        #ax[ix,0].set_title(\"mass: \"+condition_str)\n",
    "        ax[ix,0].legend(loc='best')\n",
    "        ax[ix,0].grid(True)\n",
    "        ax[ix,0].set_ylim(0.,1.)\n",
    "        ylims = ax[ix,0].get_ylim()\n",
    "        ax[ix,0].arrow(p.condition[0]*energy_norm, ylims[1], 0., ylims[0]-ylims[1],)\n",
    "        \n",
    "        ax[ix,1].plot([x*energy_norm for x in x_grid],-log_prob-np.min(-log_prob),label=str(event_size)+' events',)\n",
    "        #ax[ix,1].set_title(\"mass: \"+condition_str)\n",
    "        ax[ix,1].legend(loc='best')\n",
    "        ax[ix,1].grid(True)\n",
    "        ax[ix,1].set_ylim(0.,40.)\n",
    "        ylims = ax[ix,1].get_ylim()\n",
    "        ax[ix,1].arrow(p.condition[0]*energy_norm, ylims[1], 0., ylims[0]-ylims[1],)\n",
    "        \n",
    "        if event_size == 100:\n",
    "            nf_model.direction = 1\n",
    "            samples = nf_model.distribution.sample(idx_batch.shape[0])\n",
    "            x_pred,_ = nf_model.predict([samples,np.ones((idx_batch.shape[0],1))*p.condition[0]])\n",
    "            ax[ix,2].hist(p.x[idx_batch,0],bins=50,histtype='step',range=[-5.,5.],label='True',)\n",
    "            ax[ix,2].hist(x_pred[:,0],bins=50,histtype='step',range=[-5.,5.],label='Flow',)\n",
    "            ax[ix,2].legend(loc='best')\n",
    "            \n",
    "            ax[ix,3].hist(p.x[idx_batch,1],bins=20,histtype='step',range=[-5.,5.],label='True',)\n",
    "            ax[ix,3].hist (x_pred[:,1],bins=20,histtype='step',range=[-5.,5.],label='Flow',)\n",
    "            ax[ix,3].legend(loc='best')\n",
    "            \n",
    "            ax[ix,4].hist(p.x[idx_batch,2],bins=20,histtype='step',range=[-5.,5.],label='True',)\n",
    "            ax[ix,4].hist(x_pred[:,2],bins=20,histtype='step',range=[-5.,5.],label='Flow',)\n",
    "            ax[ix,4].legend(loc='best')\n",
    "    \n",
    "    elapsed_time = time.time() - start_time\n",
    "    print(\"Time used: \"+str(elapsed_time)+\"s\")\n",
    "    \n",
    "fig.savefig(os.path.join(output_dir,'lratio.png'))"
   ]
  },
  {
   "cell_type": "code",
   "execution_count": 93,
   "metadata": {},
   "outputs": [
    {
     "name": "stdout",
     "output_type": "stream",
     "text": [
      "----------------------------------------------------------------------------------------------------\n",
      "Drawing plot  0  with param  [-0.29155951]\n",
      "Time used: 0.4996671676635742s\n",
      "----------------------------------------------------------------------------------------------------\n",
      "Drawing plot  1  with param  [-0.23136288]\n",
      "Time used: 0.5248293876647949s\n",
      "----------------------------------------------------------------------------------------------------\n",
      "Drawing plot  2  with param  [-0.21552924]\n",
      "Time used: 0.5536932945251465s\n",
      "----------------------------------------------------------------------------------------------------\n",
      "Drawing plot  3  with param  [-0.15319038]\n",
      "Time used: 0.4945089817047119s\n",
      "----------------------------------------------------------------------------------------------------\n",
      "Drawing plot  4  with param  [-0.1027987]\n",
      "Time used: 0.4963679313659668s\n"
     ]
    }
   ],
   "source": [
    "# __________________________________________________________________ ||\n",
    "# Correlation\n",
    "# __________________________________________________________________ ||\n",
    "\n",
    "import time\n",
    "\n",
    "n_dim = 3\n",
    "select_param = [40,42,45,47,50,]\n",
    "param_grid = [arr_list[idx_param] for idx_param in select_param]\n",
    "param_grid.sort(key=lambda x: x.condition[0])\n",
    "figsize = (6,10)\n",
    "event_size = 10000\n",
    "\n",
    "energy_norm = 10.\n",
    "\n",
    "fig, ax = plt.subplots(len(select_param),n_dim,figsize=figsize,constrained_layout=True)\n",
    "\n",
    "for i,p in enumerate(param_grid):\n",
    "    \n",
    "    print(\"-\"*100)\n",
    "    print(\"Drawing plot \",i,\" with param \",p.condition[0])\n",
    "    \n",
    "    ix = i\n",
    "    \n",
    "    start_time = time.time()\n",
    "    \n",
    "    condition_str = str(p)\n",
    "    \n",
    "    idx_batch = np.random.randint(0,p.x.shape[0],event_size)\n",
    "    \n",
    "    nf_model.direction = 1\n",
    "    samples = nf_model.distribution.sample(idx_batch.shape[0])\n",
    "    \n",
    "    x_pred,_ = nf_model.predict([samples,np.ones((idx_batch.shape[0],1))*p.condition[0]])\n",
    "    \n",
    "    corr_pred = np.corrcoef(x_pred.T)\n",
    "    corr_orig = np.corrcoef(p.x[idx_batch].T)\n",
    "\n",
    "    im1 = ax[ix,0].imshow(corr_orig)\n",
    "    cbar1 = plt.colorbar(im1, ax=ax[ix,0])\n",
    "    cbar1.set_ticks(np.arange(-1., 1., 0.1))\n",
    "\n",
    "    im2 = ax[ix,1].matshow(corr_pred)\n",
    "    cbar2 = plt.colorbar(im2, ax=ax[ix,1])\n",
    "    cbar2.set_ticks(np.arange(-1., 1., 0.1))\n",
    "    \n",
    "    im3 = ax[ix,2].matshow(corr_orig / corr_pred)\n",
    "    cbar3 = plt.colorbar(im3, ax=ax[ix,2])\n",
    "    cbar3.set_ticks(np.arange(0.0, 2., 0.1))\n",
    "    \n",
    "    elapsed_time = time.time() - start_time\n",
    "    print(\"Time used: \"+str(elapsed_time)+\"s\")\n",
    "    \n",
    "fig.savefig(os.path.join(output_dir,'correlation.png'))"
   ]
  },
  {
   "cell_type": "code",
   "execution_count": null,
   "metadata": {},
   "outputs": [],
   "source": []
  }
 ],
 "metadata": {
  "kernelspec": {
   "display_name": "py3.7.6",
   "language": "python",
   "name": "py3.7.6"
  },
  "language_info": {
   "codemirror_mode": {
    "name": "ipython",
    "version": 3
   },
   "file_extension": ".py",
   "mimetype": "text/x-python",
   "name": "python",
   "nbconvert_exporter": "python",
   "pygments_lexer": "ipython3",
   "version": "3.7.6"
  }
 },
 "nbformat": 4,
 "nbformat_minor": 4
}
